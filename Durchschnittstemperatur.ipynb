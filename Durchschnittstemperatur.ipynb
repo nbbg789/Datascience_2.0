{
 "cells": [
  {
   "cell_type": "code",
   "execution_count": 1,
   "metadata": {},
   "outputs": [
    {
     "name": "stdout",
     "output_type": "stream",
     "text": [
      "Gesamtdurchschnittstemperatur: 12.10°C\n",
      "Durchschnittstemperatur im Juli: 20.75°C\n",
      "Durchschnittstemperatur im Mai: 15.24°C\n"
     ]
    }
   ],
   "source": [
    "#Aufgabe_Woche 1\n",
    "\n",
    "import pandas as pd\n",
    "\n",
    "# Laden der CSV-Datei mit Semikolon als Trennzeichen\n",
    "df = pd.read_csv(\"wetter.csv\")\n",
    "\n",
    "# Konvertierung der Spalte \"Datum\" in ein datetime-Format\n",
    "df['Datum'] = pd.to_datetime(df['Datum'], errors='coerce')\n",
    "\n",
    "# Konvertierung der Temperatur-Spalte zu numerischen Werten, ungültige Werte werden zu NaN\n",
    "df['Temperatur'] = pd.to_numeric(df['Temperatur'], errors='coerce')\n",
    "\n",
    "# Gesamtdurchschnittstemperatur berechnen\n",
    "gesamt_durchschnitt_temperatur = df['Temperatur'].mean()\n",
    "\n",
    "# Filtern der Daten für den Monat Juli\n",
    "juli_df = df[df['Datum'].dt.month == 7]\n",
    "\n",
    "# Filtern der Daten für den Monat Mai\n",
    "mai_df = df[df['Datum'].dt.month == 5]\n",
    "\n",
    "# Durchschnittstemperatur im Juli berechnen\n",
    "juli_durchschnitt_temperatur = juli_df['Temperatur'].mean()\n",
    "\n",
    "# Durchschnittstemperatur im Mai berechnen\n",
    "mai_durchschnitt_temperatur = mai_df['Temperatur'].mean()\n",
    "\n",
    "# Ergebnisse ausgeben\n",
    "print(f\"Gesamtdurchschnittstemperatur: {gesamt_durchschnitt_temperatur:.2f}°C\")\n",
    "print(f\"Durchschnittstemperatur im Juli: {juli_durchschnitt_temperatur:.2f}°C\")\n",
    "print(f\"Durchschnittstemperatur im Mai: {mai_durchschnitt_temperatur:.2f}°C\")"
   ]
  }
 ],
 "metadata": {
  "kernelspec": {
   "display_name": "Python 3 (ipykernel)",
   "language": "python",
   "name": "python3"
  },
  "language_info": {
   "codemirror_mode": {
    "name": "ipython",
    "version": 3
   },
   "file_extension": ".py",
   "mimetype": "text/x-python",
   "name": "python",
   "nbconvert_exporter": "python",
   "pygments_lexer": "ipython3",
   "version": "3.12.1"
  }
 },
 "nbformat": 4,
 "nbformat_minor": 2
}
